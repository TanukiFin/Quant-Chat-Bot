{
 "cells": [
  {
   "cell_type": "markdown",
   "metadata": {},
   "source": [
    "# 各式訊息type"
   ]
  },
  {
   "cell_type": "raw",
   "metadata": {},
   "source": [
    "# 文字\n",
    "TextSendMessage(text='哈囉')"
   ]
  },
  {
   "cell_type": "raw",
   "metadata": {},
   "source": [
    "# 貼圖 https://developers.line.biz/media/messaging-api/messages/sticker_list.pdf\n",
    "StickerSendMessage(package_id=1, sticker_id=2)"
   ]
  },
  {
   "cell_type": "raw",
   "metadata": {},
   "source": [
    "# 圖片 \n",
    "ImageSendMessage(original_content_url='圖片網址', preview_image_url='圖片網址')"
   ]
  },
  {
   "cell_type": "raw",
   "metadata": {},
   "source": [
    "# 影片\n",
    "VideoSendMessage(original_content_url='影片網址', preview_image_url='預覽的圖片網址')"
   ]
  },
  {
   "cell_type": "raw",
   "metadata": {},
   "source": [
    "# template 較為複雜，可以下載 LINE Bot Designer，用直觀方式設計完後，直接複製code\n",
    "buttons_template = TemplateSendMessage(\n",
    "    alt_text='Buttons Template',template=ButtonsTemplate(\n",
    "            title='這是ButtonsTemplate',\n",
    "            text='ButtonsTemplate可以傳送text、uri',\n",
    "            thumbnail_image_url='https://i.imgur.com/jv63oh1.png',\n",
    "            actions=[\n",
    "                MessageTemplateAction(\n",
    "                    label='ButtonsTemplate',\n",
    "                    text='ButtonsTemplate'\n",
    "                ),\n",
    "                URITemplateAction(\n",
    "                    label='VIDEO1',\n",
    "                    uri='https://i.imgur.com/jv63oh1.png'\n",
    "                ),\n",
    "                PostbackTemplateAction(\n",
    "                    label='postback',\n",
    "                    text='postback text',\n",
    "                    data='postback1'\n",
    "                )\n",
    "            ]\n",
    "        )\n",
    "    )\n",
    "line_bot_api.push_message( user_id, buttons_template )"
   ]
  },
  {
   "cell_type": "code",
   "execution_count": null,
   "metadata": {},
   "outputs": [],
   "source": []
  }
 ],
 "metadata": {
  "kernelspec": {
   "display_name": "Python 3",
   "language": "python",
   "name": "python3"
  },
  "language_info": {
   "codemirror_mode": {
    "name": "ipython",
    "version": 3
   },
   "file_extension": ".py",
   "mimetype": "text/x-python",
   "name": "python",
   "nbconvert_exporter": "python",
   "pygments_lexer": "ipython3",
   "version": "3.7.10"
  }
 },
 "nbformat": 4,
 "nbformat_minor": 2
}
