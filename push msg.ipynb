{
 "cells": [
  {
   "cell_type": "code",
   "execution_count": 1,
   "metadata": {
    "scrolled": true
   },
   "outputs": [],
   "source": [
    "# 先安裝line bot需要的套件 \n",
    "# !pip install \"line_bot_sdk==1.16.0\"\n",
    "# print('end')"
   ]
  },
  {
   "cell_type": "markdown",
   "metadata": {},
   "source": [
    "# push訊息簡單範例"
   ]
  },
  {
   "cell_type": "code",
   "execution_count": null,
   "metadata": {},
   "outputs": [],
   "source": [
    "from linebot import LineBotApi\n",
    "from linebot.models import TextSendMessage\n",
    "from linebot.models import *\n",
    "\n",
    "line_bot_api = LineBotApi('Line Bot 的 Channel access token')\n",
    "user_id = '使用者的 ID' # 不是加好友的ID\n",
    "\n",
    "line_bot_api.push_message( user_id, TextSendMessage(text='Hello World!') )\n",
    "print('...End')"
   ]
  },
  {
   "cell_type": "markdown",
   "metadata": {},
   "source": [
    "# 股票清單計算"
   ]
  },
  {
   "cell_type": "code",
   "execution_count": 4,
   "metadata": {},
   "outputs": [
    {
     "name": "stdout",
     "output_type": "stream",
     "text": [
      "...End\n"
     ]
    }
   ],
   "source": [
    "# basic\n",
    "import numpy as np\n",
    "import pandas as pd\n",
    "np.set_printoptions(suppress=True) #不要科學記號\n",
    "pd.set_option('display.float_format',lambda x : '%.4f' % x)\n",
    "pd.set_option('display.max_rows', 10)\n",
    "\n",
    "# 獲得股票資訊\n",
    "import pandas_datareader as pdr\n",
    "import yfinance as yf\n",
    "\n",
    "# 繪圖用的套件\n",
    "import matplotlib.pyplot as plt\n",
    "from mpl_toolkits.mplot3d import Axes3D\n",
    "\n",
    "#獲得時間\n",
    "import datetime as datetime\n",
    "import time\n",
    "\n",
    "#talib計算金融技術指標\n",
    "import talib\n",
    "from talib import abstract\n",
    "\n",
    "import requests\n",
    "\n",
    "today = datetime.datetime.now() \n",
    "day_ago = today - datetime.timedelta(days=100)\n",
    "\n",
    "import pandas as pd\n",
    "from datetime import date\n",
    "import pymssql\n",
    "print('...End')"
   ]
  },
  {
   "cell_type": "markdown",
   "metadata": {},
   "source": [
    "# 連接資料庫"
   ]
  },
  {
   "cell_type": "code",
   "execution_count": null,
   "metadata": {},
   "outputs": [],
   "source": [
    "conn = pymssql.connect(host='192.168.137.1',user='sa',password='linebot',database='QuantLineBot',charset='utf8')\n",
    "cursor = conn.cursor()\n",
    "sql = 'select * from UserList'\n",
    "df_user = pd.read_sql(sql, conn)     # 1 UserList\n",
    "sql = 'select * from StrategyList'\n",
    "df_stg = pd.read_sql(sql, conn)      # 2 StrategyList\n",
    "sql = 'select * from TodaySignal'\n",
    "df_signal = pd.read_sql(sql, conn)   # 3 TodaySignal"
   ]
  },
  {
   "cell_type": "code",
   "execution_count": null,
   "metadata": {},
   "outputs": [],
   "source": [
    "stg_name = df_stg['StrategyName'].tolist()\n",
    "stg_name = [str(x.strip()) for x in stg_name]  #去除空白!!\n",
    "stg_par = df_stg['Parameter'].tolist() \n",
    "stg_par = [str(x.strip()) for x in stg_par]\n",
    "stg_index = [str(x) for x in df_stg.index.tolist()]\n",
    "print(stg_name,stg_par)"
   ]
  },
  {
   "cell_type": "markdown",
   "metadata": {},
   "source": [
    "# 個別使用者的推薦清單"
   ]
  },
  {
   "cell_type": "code",
   "execution_count": null,
   "metadata": {},
   "outputs": [],
   "source": [
    "# 先更新使用者的關注清單\n",
    "# 將所有使用者關注策略存成list --> all_users_stg\n",
    "def renew_user():\n",
    "    global all_users_stg\n",
    "    all_users_stg = []\n",
    "    for user_index in range(len(df_user)):          #第0~6位\n",
    "        one_user = []\n",
    "        for i in stg_index:                         #[0,1,2]\n",
    "            if df_user[i].loc[user_index] == 1: \n",
    "                one_user.append(i)\n",
    "                #print( '第',user_index, '個使用者，', stg_name[ int(i) ], '是否用:',df_user[i].loc[user_index])\n",
    "        all_users_stg.append(one_user)"
   ]
  },
  {
   "cell_type": "code",
   "execution_count": null,
   "metadata": {},
   "outputs": [],
   "source": [
    "renew_user()\n",
    "all_users_stg"
   ]
  },
  {
   "cell_type": "code",
   "execution_count": null,
   "metadata": {},
   "outputs": [],
   "source": [
    "# 測試 - 某位使用者\n",
    "df_result = pd.DataFrame()\n",
    "user_stg = all_users_stg[3]  #某位使用者\n",
    "for i in [0,1,2]:                                  #符合數量前三\n",
    "    if len(user_stg) - i > 0 :\n",
    "        first = df_signal.T.loc[ user_stg ].sum() == len(user_stg) - i   \n",
    "        df_first = df_signal[first].reset_index()                 #找出符合(user_stg-i)個策略 的標的，並重置index\n",
    "        df_first.drop(['index'], axis = 1, inplace = True)\n",
    "        #加上符合的數量\n",
    "        df_first = pd.concat( [ df_first, pd.DataFrame([len(user_stg) - i] * len(df_first), columns = ['符合數量'])], axis = 1) \n",
    "        df_result = pd.concat([ df_result, df_first], axis = 0 )        #合併\n",
    "        print(len(user_stg) - i, user_stg)\n",
    "\n",
    "df_result.reset_index(inplace = True)\n",
    "df_result.drop(['index'], axis = 1, inplace = True)\n",
    "df_result"
   ]
  },
  {
   "cell_type": "code",
   "execution_count": null,
   "metadata": {},
   "outputs": [],
   "source": [
    "def Daily_push():\n",
    "    global all_users_stg_\n",
    "    # 主程式\n",
    "    for user_index in range(len(df_user)):                   # 迴圈每位使用者\n",
    "        # 某位使用者\n",
    "        df_result = pd.DataFrame()\n",
    "        user_stg = all_users_stg[user_index]\n",
    "        for i in range(len(df_signal.columns) - 3):                               #符合數量前三\n",
    "              if len(user_stg) - i > 0 :\n",
    "                first = df_signal.T.loc[ user_stg ].sum() == len(user_stg) - i   \n",
    "                df_first = df_signal[first].reset_index()                         #找出符合(user_stg-i)個策略 的標的，並重置index\n",
    "                df_first.drop(['index'], axis = 1, inplace = True)\n",
    "                #加上符合的數量\n",
    "                df_first = pd.concat( [ df_first, pd.DataFrame([len(user_stg) - i] * len(df_first), columns = ['符合數量'])], axis = 1) \n",
    "                df_result = pd.concat([ df_result, df_first], axis = 0 )          #合併\n",
    "\n",
    "        df_result.reset_index(inplace = True)\n",
    "        df_result.drop(['index'], axis = 1, inplace = True)\n",
    "\n",
    "        a_str = ''\n",
    "        for stg_i in range(len(all_users_stg[user_index])):\n",
    "            a_str = a_str + ' ' + stg_name[int(all_users_stg[user_index][stg_i])]\n",
    "\n",
    "        # 建構清單 flex的格式 \n",
    "        stock_list = []\n",
    "\n",
    "        for i in range(len(df_result)):                        # 迴圈每檔股票\n",
    "            column_list = []\n",
    "            if i >= 150:\n",
    "                break\n",
    "            for c in ['股票代號','股票名稱','符合數量']:         # 迴圈一檔股票的每個欄位\n",
    "                column_list.append({\n",
    "                    \"type\": \"text\",\n",
    "                    \"text\": str(df_result[c].loc[i]),\n",
    "                    \"contents\": []\n",
    "                  })        \n",
    "            stock_list.append({\n",
    "                \"type\": \"box\",\n",
    "                \"layout\": \"horizontal\",\n",
    "                \"contents\": column_list\n",
    "              })\n",
    "\n",
    "        # 一位使用者的 Flex 訊息\n",
    "        contents = {\n",
    "          \"type\": \"bubble\",\n",
    "          \"direction\": \"ltr\",\n",
    "          \"footer\": {\n",
    "            \"type\": \"box\",\n",
    "            \"layout\": \"vertical\",\n",
    "            \"contents\": [\n",
    "              {\n",
    "                \"type\": \"box\",\n",
    "                \"layout\": \"vertical\",\n",
    "                \"backgroundColor\": \"#F3B8B8FF\",\n",
    "                \"contents\": [\n",
    "                  {\n",
    "                    \"type\": \"text\",\n",
    "                    \"text\": df_user['暱稱'].loc[user_index]+\"的股票關注清單\",\n",
    "                    \"color\": \"#000000FF\",\n",
    "                    \"align\": \"center\",\n",
    "                    \"contents\": []\n",
    "                  }\n",
    "                ]\n",
    "              },\n",
    "              {\n",
    "                \"type\": \"text\",\n",
    "                \"text\": \"關注策略：\"+a_str,\n",
    "                \"contents\": []\n",
    "              },\n",
    "              {\n",
    "                \"type\": \"box\",\n",
    "                \"layout\": \"horizontal\",\n",
    "                \"backgroundColor\": \"#FCE5C0FF\",\n",
    "                \"contents\": [\n",
    "                  {\n",
    "                    \"type\": \"text\",\n",
    "                    \"text\": \"股票代號\",\n",
    "                    \"contents\": []\n",
    "                  },\n",
    "                  {\n",
    "                    \"type\": \"text\",\n",
    "                    \"text\": \"名稱\",\n",
    "                    \"contents\": []\n",
    "                  },\n",
    "                  {\n",
    "                    \"type\": \"text\",\n",
    "                    \"text\": \"符合數量\",\n",
    "                    \"contents\": []\n",
    "                  }\n",
    "                ]\n",
    "              },        \n",
    "            ] + stock_list\n",
    "          }\n",
    "        }\n",
    "\n",
    "        message = FlexSendMessage(alt_text=\"hello\", contents=contents)\n",
    "        line_bot_api.push_message( df_user['userID'].loc[user_index], message )   "
   ]
  },
  {
   "cell_type": "code",
   "execution_count": null,
   "metadata": {},
   "outputs": [],
   "source": [
    "# 推播訊息\n",
    "conn = pymssql.connect(server='104.199.210.142', user='sqlserver', password='sqlserver', database='LineBot', charset=\"utf8\")\n",
    "cursor = conn.cursor()\n",
    "sql = 'select * from 使用者資料'\n",
    "df_user = pd.read_sql(sql, conn)\n",
    "Daily_push()"
   ]
  },
  {
   "cell_type": "markdown",
   "metadata": {},
   "source": [
    "# 各式訊息type"
   ]
  },
  {
   "cell_type": "raw",
   "metadata": {},
   "source": [
    "# 文字\n",
    "TextSendMessage(text='哈囉')"
   ]
  },
  {
   "cell_type": "raw",
   "metadata": {},
   "source": [
    "# 貼圖 https://developers.line.biz/media/messaging-api/messages/sticker_list.pdf\n",
    "StickerSendMessage(package_id=1, sticker_id=2)"
   ]
  },
  {
   "cell_type": "raw",
   "metadata": {},
   "source": [
    "# 圖片 \n",
    "ImageSendMessage(original_content_url='圖片網址', preview_image_url='圖片網址')"
   ]
  },
  {
   "cell_type": "raw",
   "metadata": {},
   "source": [
    "# 影片\n",
    "VideoSendMessage(original_content_url='影片網址', preview_image_url='預覽的圖片網址')"
   ]
  },
  {
   "cell_type": "raw",
   "metadata": {},
   "source": [
    "# template 較為複雜，可以下載 LINE Bot Designer，用直觀方式設計完後，直接複製code\n",
    "buttons_template = TemplateSendMessage(\n",
    "    alt_text='Buttons Template',template=ButtonsTemplate(\n",
    "            title='這是ButtonsTemplate',\n",
    "            text='ButtonsTemplate可以傳送text、uri',\n",
    "            thumbnail_image_url='https://i.imgur.com/jv63oh1.png',\n",
    "            actions=[\n",
    "                MessageTemplateAction(\n",
    "                    label='ButtonsTemplate',\n",
    "                    text='ButtonsTemplate'\n",
    "                ),\n",
    "                URITemplateAction(\n",
    "                    label='VIDEO1',\n",
    "                    uri='https://i.imgur.com/jv63oh1.png'\n",
    "                ),\n",
    "                PostbackTemplateAction(\n",
    "                    label='postback',\n",
    "                    text='postback text',\n",
    "                    data='postback1'\n",
    "                )\n",
    "            ]\n",
    "        )\n",
    "    )\n",
    "line_bot_api.push_message( user_id, buttons_template )"
   ]
  }
 ],
 "metadata": {
  "kernelspec": {
   "display_name": "Python 3",
   "language": "python",
   "name": "python3"
  },
  "language_info": {
   "codemirror_mode": {
    "name": "ipython",
    "version": 3
   },
   "file_extension": ".py",
   "mimetype": "text/x-python",
   "name": "python",
   "nbconvert_exporter": "python",
   "pygments_lexer": "ipython3",
   "version": "3.7.10"
  }
 },
 "nbformat": 4,
 "nbformat_minor": 2
}
