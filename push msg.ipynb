{
 "cells": [
  {
   "cell_type": "code",
   "execution_count": 106,
   "metadata": {
    "scrolled": true
   },
   "outputs": [],
   "source": [
    "# 先安裝line bot需要的套件 \n",
    "# !pip install \"line_bot_sdk==1.16.0\"\n",
    "# print('end')"
   ]
  },
  {
   "cell_type": "code",
   "execution_count": 107,
   "metadata": {},
   "outputs": [
    {
     "name": "stdout",
     "output_type": "stream",
     "text": [
      "...End\n"
     ]
    }
   ],
   "source": [
    "# basic\n",
    "import numpy as np\n",
    "import pandas as pd\n",
    "np.set_printoptions(suppress=True) #不要科學記號\n",
    "pd.set_option('display.float_format',lambda x : '%.4f' % x)\n",
    "pd.set_option('display.max_rows', 10)\n",
    "\n",
    "# 獲得股票資訊\n",
    "import pandas_datareader as pdr\n",
    "import yfinance as yf\n",
    "\n",
    "# 繪圖用的套件\n",
    "import matplotlib.pyplot as plt\n",
    "from mpl_toolkits.mplot3d import Axes3D\n",
    "\n",
    "#獲得時間\n",
    "import datetime as datetime\n",
    "import time\n",
    "\n",
    "#talib計算金融技術指標\n",
    "import talib\n",
    "from talib import abstract\n",
    "\n",
    "import requests\n",
    "\n",
    "today = datetime.datetime.now() \n",
    "day_ago = today - datetime.timedelta(days=100)\n",
    "\n",
    "import pandas as pd\n",
    "from datetime import date\n",
    "import pymssql\n",
    "\n",
    "# linebot\n",
    "from linebot import ( LineBotApi, WebhookHandler )\n",
    "from linebot.exceptions import ( InvalidSignatureError )\n",
    "from linebot.models import *\n",
    "\n",
    "print('...End')"
   ]
  },
  {
   "cell_type": "markdown",
   "metadata": {},
   "source": [
    "# 連接資料庫"
   ]
  },
  {
   "cell_type": "code",
   "execution_count": 108,
   "metadata": {},
   "outputs": [],
   "source": [
    "conn = pymssql.connect(host='Database Host',user='sa',password='linebot',database='QuantLineBot',charset='utf8')\n",
    "cursor = conn.cursor()\n",
    "sql = 'select * from UserList'\n",
    "df_user = pd.read_sql(sql, conn)     # 1 UserList\n",
    "sql = 'select * from StrategyList'\n",
    "df_stg = pd.read_sql(sql, conn)      # 2 StrategyList\n",
    "sql = 'select * from TodaySignal'\n",
    "df_signal = pd.read_sql(sql, conn)   # 3 TodaySignal"
   ]
  },
  {
   "cell_type": "code",
   "execution_count": 119,
   "metadata": {},
   "outputs": [
    {
     "data": {
      "text/html": [
       "<div>\n",
       "<style scoped>\n",
       "    .dataframe tbody tr th:only-of-type {\n",
       "        vertical-align: middle;\n",
       "    }\n",
       "\n",
       "    .dataframe tbody tr th {\n",
       "        vertical-align: top;\n",
       "    }\n",
       "\n",
       "    .dataframe thead th {\n",
       "        text-align: right;\n",
       "    }\n",
       "</style>\n",
       "<table border=\"1\" class=\"dataframe\">\n",
       "  <thead>\n",
       "    <tr style=\"text-align: right;\">\n",
       "      <th></th>\n",
       "      <th>ID</th>\n",
       "      <th>Name</th>\n",
       "      <th>0</th>\n",
       "      <th>1</th>\n",
       "      <th>2</th>\n",
       "    </tr>\n",
       "  </thead>\n",
       "  <tbody>\n",
       "    <tr>\n",
       "      <th>0</th>\n",
       "      <td>u3f83uhd</td>\n",
       "      <td>Emery</td>\n",
       "      <td>0</td>\n",
       "      <td>1</td>\n",
       "      <td>0</td>\n",
       "    </tr>\n",
       "    <tr>\n",
       "      <th>1</th>\n",
       "      <td>bsbw4gwe</td>\n",
       "      <td>Sandy</td>\n",
       "      <td>1</td>\n",
       "      <td>0</td>\n",
       "      <td>1</td>\n",
       "    </tr>\n",
       "    <tr>\n",
       "      <th>2</th>\n",
       "      <td>svadvvw</td>\n",
       "      <td>Kevin</td>\n",
       "      <td>1</td>\n",
       "      <td>0</td>\n",
       "      <td>1</td>\n",
       "    </tr>\n",
       "    <tr>\n",
       "      <th>3</th>\n",
       "      <td>g43egsde</td>\n",
       "      <td>Ken</td>\n",
       "      <td>1</td>\n",
       "      <td>0</td>\n",
       "      <td>1</td>\n",
       "    </tr>\n",
       "    <tr>\n",
       "      <th>4</th>\n",
       "      <td>vsddsvsx</td>\n",
       "      <td>Amy</td>\n",
       "      <td>1</td>\n",
       "      <td>0</td>\n",
       "      <td>1</td>\n",
       "    </tr>\n",
       "    <tr>\n",
       "      <th>5</th>\n",
       "      <td>U53ba0f86ac04064b808aa924e057947b</td>\n",
       "      <td>Andy</td>\n",
       "      <td>1</td>\n",
       "      <td>0</td>\n",
       "      <td>1</td>\n",
       "    </tr>\n",
       "    <tr>\n",
       "      <th>6</th>\n",
       "      <td>fsavsv</td>\n",
       "      <td>Jack</td>\n",
       "      <td>1</td>\n",
       "      <td>0</td>\n",
       "      <td>1</td>\n",
       "    </tr>\n",
       "  </tbody>\n",
       "</table>\n",
       "</div>"
      ],
      "text/plain": [
       "                                         ID                  Name  0  1  2\n",
       "0  u3f83uhd                                  Emery                 0  1  0\n",
       "1  bsbw4gwe                                  Sandy                 1  0  1\n",
       "2  svadvvw                                   Kevin                 1  0  1\n",
       "3  g43egsde                                  Ken                   1  0  1\n",
       "4  vsddsvsx                                  Amy                   1  0  1\n",
       "5  U53ba0f86ac04064b808aa924e057947b         Andy                  1  0  1\n",
       "6  fsavsv                                    Jack                  1  0  1"
      ]
     },
     "execution_count": 119,
     "metadata": {},
     "output_type": "execute_result"
    }
   ],
   "source": [
    "df_user"
   ]
  },
  {
   "cell_type": "code",
   "execution_count": 120,
   "metadata": {},
   "outputs": [
    {
     "name": "stdout",
     "output_type": "stream",
     "text": [
      "['BBAND', 'RSI', 'MACD'] ['BBANDS(df,timeperiod=20,nbdevup=1.0,nbdevdn=1.0,matype=0)', 'RSI(df,timeperiod=14)', 'MACD(df,fastperiod=12,slowperiod=26,signalperiod=9)']\n"
     ]
    }
   ],
   "source": [
    "stg_name = df_stg['StrategyName'].tolist()\n",
    "stg_name = [str(x.strip()) for x in stg_name]  #去除空白!!\n",
    "stg_par = df_stg['Parameter'].tolist() \n",
    "stg_par = [str(x.strip()) for x in stg_par]\n",
    "stg_index = [str(x) for x in df_stg.index.tolist()]\n",
    "print(stg_name,stg_par)"
   ]
  },
  {
   "cell_type": "markdown",
   "metadata": {},
   "source": [
    "# 個別使用者的推薦清單"
   ]
  },
  {
   "cell_type": "code",
   "execution_count": 121,
   "metadata": {},
   "outputs": [],
   "source": [
    "# 先更新使用者的關注清單\n",
    "# 將所有使用者關注策略存成list --> all_users_stg\n",
    "def renew_user():\n",
    "    global all_users_stg\n",
    "    all_users_stg = []\n",
    "    for user_index in range(len(df_user)):          #第0~6位\n",
    "        one_user = []\n",
    "        for i in stg_index:                         #[0,1,2]\n",
    "            if df_user[i].loc[user_index] == 1: \n",
    "                one_user.append(i)\n",
    "                print( '第',user_index, '個使用者，', stg_name[ int(i) ], '是否用:',df_user[i].loc[user_index])\n",
    "        all_users_stg.append(one_user)"
   ]
  },
  {
   "cell_type": "code",
   "execution_count": 122,
   "metadata": {},
   "outputs": [
    {
     "name": "stdout",
     "output_type": "stream",
     "text": [
      "第 0 個使用者， RSI 是否用: 1\n",
      "第 1 個使用者， BBAND 是否用: 1\n",
      "第 1 個使用者， MACD 是否用: 1\n",
      "第 2 個使用者， BBAND 是否用: 1\n",
      "第 2 個使用者， MACD 是否用: 1\n",
      "第 3 個使用者， BBAND 是否用: 1\n",
      "第 3 個使用者， MACD 是否用: 1\n",
      "第 4 個使用者， BBAND 是否用: 1\n",
      "第 4 個使用者， MACD 是否用: 1\n",
      "第 5 個使用者， BBAND 是否用: 1\n",
      "第 5 個使用者， MACD 是否用: 1\n",
      "第 6 個使用者， BBAND 是否用: 1\n",
      "第 6 個使用者， MACD 是否用: 1\n"
     ]
    },
    {
     "data": {
      "text/plain": [
       "[['1'], ['0', '2'], ['0', '2'], ['0', '2'], ['0', '2'], ['0', '2'], ['0', '2']]"
      ]
     },
     "execution_count": 122,
     "metadata": {},
     "output_type": "execute_result"
    }
   ],
   "source": [
    "renew_user()\n",
    "all_users_stg"
   ]
  },
  {
   "cell_type": "code",
   "execution_count": 123,
   "metadata": {},
   "outputs": [
    {
     "name": "stdout",
     "output_type": "stream",
     "text": [
      "2 ['0', '2']\n",
      "1 ['0', '2']\n"
     ]
    },
    {
     "data": {
      "text/html": [
       "<div>\n",
       "<style scoped>\n",
       "    .dataframe tbody tr th:only-of-type {\n",
       "        vertical-align: middle;\n",
       "    }\n",
       "\n",
       "    .dataframe tbody tr th {\n",
       "        vertical-align: top;\n",
       "    }\n",
       "\n",
       "    .dataframe thead th {\n",
       "        text-align: right;\n",
       "    }\n",
       "</style>\n",
       "<table border=\"1\" class=\"dataframe\">\n",
       "  <thead>\n",
       "    <tr style=\"text-align: right;\">\n",
       "      <th></th>\n",
       "      <th>StockSymbol</th>\n",
       "      <th>StockName</th>\n",
       "      <th>IndustryType</th>\n",
       "      <th>0</th>\n",
       "      <th>1</th>\n",
       "      <th>2</th>\n",
       "      <th>符合數量</th>\n",
       "    </tr>\n",
       "  </thead>\n",
       "  <tbody>\n",
       "    <tr>\n",
       "      <th>0</th>\n",
       "      <td>2424</td>\n",
       "      <td>隴華</td>\n",
       "      <td>電腦及週邊設備業</td>\n",
       "      <td>1</td>\n",
       "      <td>0</td>\n",
       "      <td>1</td>\n",
       "      <td>2</td>\n",
       "    </tr>\n",
       "    <tr>\n",
       "      <th>1</th>\n",
       "      <td>8101</td>\n",
       "      <td>華冠</td>\n",
       "      <td>通信網路業</td>\n",
       "      <td>1</td>\n",
       "      <td>0</td>\n",
       "      <td>1</td>\n",
       "      <td>2</td>\n",
       "    </tr>\n",
       "    <tr>\n",
       "      <th>2</th>\n",
       "      <td>1471</td>\n",
       "      <td>首利</td>\n",
       "      <td>電子零組件業</td>\n",
       "      <td>1</td>\n",
       "      <td>0</td>\n",
       "      <td>0</td>\n",
       "      <td>1</td>\n",
       "    </tr>\n",
       "    <tr>\n",
       "      <th>3</th>\n",
       "      <td>1512</td>\n",
       "      <td>瑞利</td>\n",
       "      <td>汽車工業</td>\n",
       "      <td>1</td>\n",
       "      <td>0</td>\n",
       "      <td>0</td>\n",
       "      <td>1</td>\n",
       "    </tr>\n",
       "    <tr>\n",
       "      <th>4</th>\n",
       "      <td>2015</td>\n",
       "      <td>豐興</td>\n",
       "      <td>鋼鐵工業</td>\n",
       "      <td>0</td>\n",
       "      <td>0</td>\n",
       "      <td>1</td>\n",
       "      <td>1</td>\n",
       "    </tr>\n",
       "    <tr>\n",
       "      <th>...</th>\n",
       "      <td>...</td>\n",
       "      <td>...</td>\n",
       "      <td>...</td>\n",
       "      <td>...</td>\n",
       "      <td>...</td>\n",
       "      <td>...</td>\n",
       "      <td>...</td>\n",
       "    </tr>\n",
       "    <tr>\n",
       "      <th>15</th>\n",
       "      <td>3130</td>\n",
       "      <td>一零四</td>\n",
       "      <td>資訊服務業</td>\n",
       "      <td>0</td>\n",
       "      <td>0</td>\n",
       "      <td>1</td>\n",
       "      <td>1</td>\n",
       "    </tr>\n",
       "    <tr>\n",
       "      <th>16</th>\n",
       "      <td>3701</td>\n",
       "      <td>大眾控</td>\n",
       "      <td>電腦及週邊設備業</td>\n",
       "      <td>1</td>\n",
       "      <td>0</td>\n",
       "      <td>0</td>\n",
       "      <td>1</td>\n",
       "    </tr>\n",
       "    <tr>\n",
       "      <th>17</th>\n",
       "      <td>4536</td>\n",
       "      <td>拓凱</td>\n",
       "      <td>其他業</td>\n",
       "      <td>0</td>\n",
       "      <td>0</td>\n",
       "      <td>1</td>\n",
       "      <td>1</td>\n",
       "    </tr>\n",
       "    <tr>\n",
       "      <th>18</th>\n",
       "      <td>6625</td>\n",
       "      <td>必應</td>\n",
       "      <td>其他業</td>\n",
       "      <td>1</td>\n",
       "      <td>0</td>\n",
       "      <td>0</td>\n",
       "      <td>1</td>\n",
       "    </tr>\n",
       "    <tr>\n",
       "      <th>19</th>\n",
       "      <td>8473</td>\n",
       "      <td>山林水</td>\n",
       "      <td>其他業</td>\n",
       "      <td>1</td>\n",
       "      <td>0</td>\n",
       "      <td>0</td>\n",
       "      <td>1</td>\n",
       "    </tr>\n",
       "  </tbody>\n",
       "</table>\n",
       "<p>20 rows × 7 columns</p>\n",
       "</div>"
      ],
      "text/plain": [
       "   StockSymbol   StockName IndustryType  0  1  2  符合數量\n",
       "0   2424        隴華           電腦及週邊設備業    1  0  1     2\n",
       "1   8101        華冠           通信網路業       1  0  1     2\n",
       "2   1471        首利           電子零組件業      1  0  0     1\n",
       "3   1512        瑞利           汽車工業        1  0  0     1\n",
       "4   2015        豐興           鋼鐵工業        0  0  1     1\n",
       "..         ...         ...          ... .. .. ..   ...\n",
       "15  3130        一零四          資訊服務業       0  0  1     1\n",
       "16  3701        大眾控          電腦及週邊設備業    1  0  0     1\n",
       "17  4536        拓凱           其他業         0  0  1     1\n",
       "18  6625        必應           其他業         1  0  0     1\n",
       "19  8473        山林水          其他業         1  0  0     1\n",
       "\n",
       "[20 rows x 7 columns]"
      ]
     },
     "execution_count": 123,
     "metadata": {},
     "output_type": "execute_result"
    }
   ],
   "source": [
    "# 測試 - 某位使用者\n",
    "df_result = pd.DataFrame()\n",
    "user_stg = all_users_stg[3]  #某位使用者\n",
    "for i in [0,1,2]:                                  #符合數量前三\n",
    "    if len(user_stg) - i > 0 :\n",
    "        first = df_signal.T.loc[ user_stg ].sum() == len(user_stg) - i   \n",
    "        df_first = df_signal[first].reset_index()                         #找出符合(user_stg-i)個策略 的標的，並重置index\n",
    "        df_first.drop(['index'], axis = 1, inplace = True)\n",
    "        #加上符合的數量\n",
    "        df_first = pd.concat( [ df_first, pd.DataFrame([len(user_stg) - i] * len(df_first), columns = ['符合數量'])], axis = 1) \n",
    "        df_result = pd.concat([ df_result, df_first], axis = 0 )          #合併\n",
    "        print(len(user_stg) - i, user_stg)\n",
    "\n",
    "df_result.reset_index(inplace = True)\n",
    "df_result.drop(['index'], axis = 1, inplace = True)\n",
    "df_result"
   ]
  },
  {
   "cell_type": "markdown",
   "metadata": {},
   "source": [
    "# Line Bot 傳訊息"
   ]
  },
  {
   "cell_type": "code",
   "execution_count": 127,
   "metadata": {},
   "outputs": [],
   "source": [
    "def Daily_push():\n",
    "    global all_users_stg\n",
    "    # 主程式\n",
    "    \n",
    "    for user_index in range(len(df_user)):                   # 迴圈每位使用者\n",
    "        # 某位使用者\n",
    "        df_result = pd.DataFrame()\n",
    "        user_stg = all_users_stg[user_index]\n",
    "        for i in range(len(df_signal.columns) - 3):                               #符合數量前三\n",
    "              if len(user_stg) - i > 0 :\n",
    "                first = df_signal.T.loc[ user_stg ].sum() == len(user_stg) - i   \n",
    "                df_first = df_signal[first].reset_index()                         #找出符合(user_stg-i)個策略 的標的，並重置index\n",
    "                df_first.drop(['index'], axis = 1, inplace = True)\n",
    "                #加上符合的數量\n",
    "                df_first = pd.concat( [ df_first, pd.DataFrame([len(user_stg) - i] * len(df_first), columns = ['符合數量'])], axis = 1) \n",
    "                df_result = pd.concat([ df_result, df_first], axis = 0 )          #合併\n",
    "\n",
    "        df_result.reset_index(inplace = True)\n",
    "        df_result.drop(['index'], axis = 1, inplace = True)\n",
    "\n",
    "        a_str = ''\n",
    "        for stg_i in range(len(all_users_stg[user_index])):\n",
    "            a_str = a_str + ' ' + stg_name[int(all_users_stg[user_index][stg_i])]\n",
    "\n",
    "        # 建構清單 flex的格式 \n",
    "        stock_list = []\n",
    "\n",
    "        for i in range(len(df_result)):                        # 迴圈每檔股票\n",
    "            column_list = []\n",
    "            if i >= 150:\n",
    "                break\n",
    "            for c in ['StockSymbol','StockName','符合數量']:         # 迴圈一檔股票的每個欄位\n",
    "                column_list.append({\n",
    "                    \"type\": \"text\",\n",
    "                    \"text\": str(df_result[c].loc[i]),\n",
    "                    \"contents\": []\n",
    "                  })        \n",
    "            stock_list.append({\n",
    "                \"type\": \"box\",\n",
    "                \"layout\": \"horizontal\",\n",
    "                \"contents\": column_list\n",
    "              })\n",
    "\n",
    "        # 一位使用者的 Flex 訊息\n",
    "        contents = {\n",
    "          \"type\": \"bubble\",\n",
    "          \"direction\": \"ltr\",\n",
    "          \"footer\": {\n",
    "            \"type\": \"box\",\n",
    "            \"layout\": \"vertical\",\n",
    "            \"contents\": [\n",
    "              {\n",
    "                \"type\": \"box\",\n",
    "                \"layout\": \"vertical\",\n",
    "                \"backgroundColor\": \"#F3B8B8FF\",\n",
    "                \"contents\": [\n",
    "                  {\n",
    "                    \"type\": \"text\",\n",
    "                    \"text\": df_user['Name'].loc[user_index]+\"的股票關注清單\",\n",
    "                    \"color\": \"#000000FF\",\n",
    "                    \"align\": \"center\",\n",
    "                    \"contents\": []\n",
    "                  }\n",
    "                ]\n",
    "              },\n",
    "              {\n",
    "                \"type\": \"text\",\n",
    "                \"text\": \"關注策略：\"+a_str,\n",
    "                \"contents\": []\n",
    "              },\n",
    "              {\n",
    "                \"type\": \"box\",\n",
    "                \"layout\": \"horizontal\",\n",
    "                \"backgroundColor\": \"#FCE5C0FF\",\n",
    "                \"contents\": [\n",
    "                  {\n",
    "                    \"type\": \"text\",\n",
    "                    \"text\": \"股票代號\",\n",
    "                    \"contents\": []\n",
    "                  },\n",
    "                  {\n",
    "                    \"type\": \"text\",\n",
    "                    \"text\": \"名稱\",\n",
    "                    \"contents\": []\n",
    "                  },\n",
    "                  {\n",
    "                    \"type\": \"text\",\n",
    "                    \"text\": \"符合數量\",\n",
    "                    \"contents\": []\n",
    "                  }\n",
    "                ]\n",
    "              },        \n",
    "            ] + stock_list\n",
    "          }\n",
    "        }\n",
    "\n",
    "        message = FlexSendMessage(alt_text=\"hello\", contents=contents)\n",
    "        try:\n",
    "            line_bot_api.push_message( df_user['ID'].loc[user_index], message )   \n",
    "        except:\n",
    "            print( '錯誤的使用者ID:', df_user['ID'].loc[user_index])\n",
    "            pass"
   ]
  },
  {
   "cell_type": "code",
   "execution_count": 128,
   "metadata": {},
   "outputs": [],
   "source": [
    "conn = pymssql.connect(host='Database Host',user='sa',password='linebot',database='QuantLineBot',charset='utf8')\n",
    "cursor = conn.cursor()\n",
    "sql = 'select * from UserList'\n",
    "df_user = pd.read_sql(sql, conn)     # 1 UserList"
   ]
  },
  {
   "cell_type": "code",
   "execution_count": 129,
   "metadata": {},
   "outputs": [
    {
     "name": "stdout",
     "output_type": "stream",
     "text": [
      "錯誤的使用者ID: u3f83uhd                                \n",
      "錯誤的使用者ID: bsbw4gwe                                \n",
      "錯誤的使用者ID: svadvvw                                 \n",
      "錯誤的使用者ID: g43egsde                                \n",
      "錯誤的使用者ID: vsddsvsx                                \n",
      "錯誤的使用者ID: fsavsv                                  \n"
     ]
    }
   ],
   "source": [
    "# Channel Access Token\n",
    "line_bot_api = LineBotApi('Line Bot 的 Channel access token ')\n",
    "Daily_push()"
   ]
  },
  {
   "cell_type": "markdown",
   "metadata": {},
   "source": [
    "# 各式訊息type"
   ]
  },
  {
   "cell_type": "raw",
   "metadata": {},
   "source": [
    "# 文字\n",
    "TextSendMessage(text='哈囉')"
   ]
  },
  {
   "cell_type": "raw",
   "metadata": {},
   "source": [
    "# 貼圖 https://developers.line.biz/media/messaging-api/messages/sticker_list.pdf\n",
    "StickerSendMessage(package_id=1, sticker_id=2)"
   ]
  },
  {
   "cell_type": "raw",
   "metadata": {},
   "source": [
    "# 圖片 \n",
    "ImageSendMessage(original_content_url='圖片網址', preview_image_url='圖片網址')"
   ]
  },
  {
   "cell_type": "raw",
   "metadata": {},
   "source": [
    "# 影片\n",
    "VideoSendMessage(original_content_url='影片網址', preview_image_url='預覽的圖片網址')"
   ]
  },
  {
   "cell_type": "raw",
   "metadata": {},
   "source": [
    "# template 較為複雜，可以下載 LINE Bot Designer，用直觀方式設計完後，直接複製code\n",
    "buttons_template = TemplateSendMessage(\n",
    "    alt_text='Buttons Template',template=ButtonsTemplate(\n",
    "            title='這是ButtonsTemplate',\n",
    "            text='ButtonsTemplate可以傳送text、uri',\n",
    "            thumbnail_image_url='https://i.imgur.com/jv63oh1.png',\n",
    "            actions=[\n",
    "                MessageTemplateAction(\n",
    "                    label='ButtonsTemplate',\n",
    "                    text='ButtonsTemplate'\n",
    "                ),\n",
    "                URITemplateAction(\n",
    "                    label='VIDEO1',\n",
    "                    uri='https://i.imgur.com/jv63oh1.png'\n",
    "                ),\n",
    "                PostbackTemplateAction(\n",
    "                    label='postback',\n",
    "                    text='postback text',\n",
    "                    data='postback1'\n",
    "                )\n",
    "            ]\n",
    "        )\n",
    "    )\n",
    "line_bot_api.push_message( user_id, buttons_template )"
   ]
  },
  {
   "cell_type": "code",
   "execution_count": null,
   "metadata": {},
   "outputs": [],
   "source": []
  }
 ],
 "metadata": {
  "kernelspec": {
   "display_name": "Python 3",
   "language": "python",
   "name": "python3"
  },
  "language_info": {
   "codemirror_mode": {
    "name": "ipython",
    "version": 3
   },
   "file_extension": ".py",
   "mimetype": "text/x-python",
   "name": "python",
   "nbconvert_exporter": "python",
   "pygments_lexer": "ipython3",
   "version": "3.7.10"
  }
 },
 "nbformat": 4,
 "nbformat_minor": 2
}
